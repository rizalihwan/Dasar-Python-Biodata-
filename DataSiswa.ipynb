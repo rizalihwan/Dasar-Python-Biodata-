{
 "cells": [
  {
   "cell_type": "code",
   "execution_count": 4,
   "metadata": {},
   "outputs": [
    {
     "name": "stdout",
     "output_type": "stream",
     "text": [
      "Data Input Siswa Smk Wikrama Bogor\n",
      "==================================\n",
      "Masukan Nis : 1210291092\n",
      "Masukan Nama : rizal\n",
      "Jenis Kelamin Anda (L/P) : l\n",
      "Rombel : rpl\n",
      "Rayon  : cic 3\n",
      "==================================\n",
      "Nilai B.INDO     : 20\n",
      "Nilai Matematika : 100\n",
      "Nilai B.INGGRIS  : 30\n",
      "==================================\n",
      "Laporan Nilai Akhir Semester Smk Wikrama Bogor\n",
      "================== Data Diri =================\n",
      "Nis    :  1210291092\n",
      "Nama   :  rizal\n",
      "Jk     :  l\n",
      "Rombel :  rpl\n",
      "Rayon  :  cic 3\n",
      "==================== Nilai ===================\n",
      "Bahasa INDONESIA :  20.0\n",
      "Matematika       :  100.0\n",
      "Bahasa Inggris   :  30.0\n",
      "Hasil Rata - rata :  50.0\n",
      "Tidak Lulus\n"
     ]
    }
   ],
   "source": [
    "print(\"Data Input Siswa Smk Wikrama Bogor\")\n",
    "print(\"==================================\")\n",
    "a = input(\"Masukan Nis : \")\n",
    "b = input(\"Masukan Nama : \")\n",
    "c = input(\"Jenis Kelamin Anda (L/P) : \")\n",
    "d = input(\"Rombel : \")\n",
    "e = input(\"Rayon  : \")\n",
    "print(\"==================================\")\n",
    "i = float(input(\"Nilai B.INDO     : \"))\n",
    "m = float(input(\"Nilai Matematika : \"))\n",
    "g = float(input(\"Nilai B.INGGRIS  : \"))\n",
    "rumus = (i+m+g)/3\n",
    "print(\"==================================\")\n",
    "print(\"Laporan Nilai Akhir Semester Smk Wikrama Bogor\")\n",
    "print(\"================== Data Diri =================\")\n",
    "print(\"Nis    : \" , a)\n",
    "print(\"Nama   : \" , b)\n",
    "print(\"Jk     : \" , c)\n",
    "print(\"Rombel : \" , d)\n",
    "print(\"Rayon  : \" , e)\n",
    "print(\"==================== Nilai ===================\")\n",
    "print(\"Bahasa INDONESIA : \" , i)\n",
    "print(\"Matematika       : \" , m)\n",
    "print(\"Bahasa Inggris   : \" , g)\n",
    "print(\"Hasil Rata - rata : \" , rumus)\n",
    "if rumus < 75:\n",
    "    print(\"Tidak Lulus\")\n",
    "else:\n",
    "    print(\"Lulus\")\n"
   ]
  }
 ],
 "metadata": {
  "kernelspec": {
   "display_name": "Python 3",
   "language": "python",
   "name": "python3"
  }
 },
 "nbformat": 4,
 "nbformat_minor": 2
}
